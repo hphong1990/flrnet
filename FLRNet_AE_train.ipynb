{
 "cells": [
  {
   "cell_type": "code",
   "execution_count": 1,
   "metadata": {},
   "outputs": [
    {
     "name": "stderr",
     "output_type": "stream",
     "text": [
      "c:\\Users\\phong\\.conda\\envs\\tf\\lib\\site-packages\\h5py\\__init__.py:36: UserWarning: h5py is running against HDF5 1.12.2 when it was built against 1.12.1, this may cause problems\n",
      "  _warn((\"h5py is running against HDF5 {0} when it was built against {1}, \"\n"
     ]
    }
   ],
   "source": [
    "from tensorflow import keras\n",
    "from tensorflow.keras import layers, regularizers\n",
    "from keras.layers import *\n",
    "import tensorflow as tf\n",
    "import numpy as np\n",
    "import baseline_model"
   ]
  },
  {
   "cell_type": "markdown",
   "metadata": {},
   "source": [
    "## Data preparation"
   ]
  },
  {
   "cell_type": "code",
   "execution_count": 2,
   "metadata": {},
   "outputs": [
    {
     "name": "stdout",
     "output_type": "stream",
     "text": [
      "(429, 8)\n",
      "(429, 128, 256, 1)\n",
      "Check field data:  0.0 1.0\n",
      "Check sens data:  0.013270650800024661 0.766168138177504\n",
      "<BatchDataset element_spec=(TensorSpec(shape=(None, 8), dtype=tf.float64, name=None), TensorSpec(shape=(None, 128, 256, 1), dtype=tf.float64, name=None))>\n"
     ]
    }
   ],
   "source": [
    "no_of_sensor = 8\n",
    "# Prepare field data\n",
    "Re_list_train = [300, 400, 450, 500, 600, 650, 700, 800, 850, 900, 1000]\n",
    "Re_list_test = [350, 550, 750, 950]\n",
    "\n",
    "sensor_data_whole = []\n",
    "full_field_data_whole = []\n",
    "for Re in Re_list_train:\n",
    "    filename = \"E:/Research/Data/flow_field_recon/random_sensor_data/sensor_data_\" + str(no_of_sensor) + \"_\" + str(Re) + \".npy\"\n",
    "    sensor_data = np.load(filename)\n",
    "    sensor_data_whole.append(sensor_data)\n",
    "    filename_field = \"E:/Research/Data/flow_field_recon/full_field_data/full_field_data_\" + str(Re) + \".npy\"\n",
    "    full_field_data_whole.append(np.load(filename_field))\n",
    "\n",
    "sensor_data_whole_array = np.swapaxes(np.concatenate(sensor_data_whole,axis = -1), 0,1)\n",
    "full_field_data_whole_array = np.swapaxes(\n",
    "    np.expand_dims(\n",
    "        np.concatenate(full_field_data_whole, axis = -1), axis = 0),\n",
    "        0, -1)\n",
    "\n",
    "print(sensor_data_whole_array.shape)\n",
    "print(full_field_data_whole_array.shape)\n",
    "\n",
    "# Normalization\n",
    "min_val = np.amin(full_field_data_whole_array)\n",
    "max_val = np.amax(full_field_data_whole_array)\n",
    "full_field_data_whole_array_norm = (full_field_data_whole_array - min_val)/(max_val - min_val)\n",
    "sensor_data_whole_array_norm = (sensor_data_whole_array - min_val)/(max_val - min_val)\n",
    "\n",
    "# Test\n",
    "print(\"Check field data: \", np.amin(full_field_data_whole_array_norm), np.amax(full_field_data_whole_array_norm))\n",
    "print(\"Check sens data: \", np.amin(sensor_data_whole_array_norm), np.amax(sensor_data_whole_array_norm))\n",
    "\n",
    "# Create tf.dataset\n",
    "dataset = tf.data.Dataset.from_tensor_slices((sensor_data_whole_array_norm,full_field_data_whole_array_norm))\n",
    "dataset = dataset.shuffle(buffer_size = 2192) \n",
    "dataset = dataset.batch(8)\n",
    "print(dataset)\n"
   ]
  },
  {
   "cell_type": "markdown",
   "metadata": {},
   "source": [
    "## Autoencoder training (skip if autoencoder trained)"
   ]
  },
  {
   "cell_type": "code",
   "execution_count": null,
   "metadata": {},
   "outputs": [],
   "source": [
    "tf.keras.backend.clear_session()\n",
    "flow_ae = baseline_model.AE()\n",
    "flow_ae.compile(optimizer = tf.keras.optimizers.Adam(learning_rate = 0.0005, beta_1 = 0.9, beta_2 = 0.999))\n",
    "flow_ae.fit(dataset, epochs = 100, shuffle = True)"
   ]
  },
  {
   "cell_type": "code",
   "execution_count": null,
   "metadata": {},
   "outputs": [],
   "source": [
    "flow_ae.encoder.save_weights('encoder_ae.h5')\n",
    "flow_ae.decoder.save_weights('decoder_ae.h5')"
   ]
  },
  {
   "cell_type": "markdown",
   "metadata": {},
   "source": [
    "## Training"
   ]
  },
  {
   "cell_type": "code",
   "execution_count": null,
   "metadata": {},
   "outputs": [],
   "source": [
    "tf.keras.backend.clear_session()\n",
    "flow_recon_ae = baseline_model.FLRNetAE(n_sensor = no_of_sensor)\n",
    "flow_recon_ae.encoder.load_weights('encoder_ae.h5')\n",
    "flow_recon_ae.decoder.load_weights('decoder_ae.h5')\n",
    "flow_recon_ae.compile(optimizer = tf.keras.optimizers.Adam(learning_rate = 0.00005, beta_1 = 0.9, beta_2 = 0.999))\n",
    "flow_recon_ae.fit(dataset, epochs = 1000, shuffle = True)"
   ]
  },
  {
   "cell_type": "code",
   "execution_count": 5,
   "metadata": {},
   "outputs": [],
   "source": [
    "# Save model weight\n",
    "flow_recon_ae.sens_mapping.save_weights('mapping_8_ran_per.h5')"
   ]
  }
 ],
 "metadata": {
  "kernelspec": {
   "display_name": "Python 3",
   "language": "python",
   "name": "python3"
  },
  "language_info": {
   "codemirror_mode": {
    "name": "ipython",
    "version": 3
   },
   "file_extension": ".py",
   "mimetype": "text/x-python",
   "name": "python",
   "nbconvert_exporter": "python",
   "pygments_lexer": "ipython3",
   "version": "3.9.18"
  }
 },
 "nbformat": 4,
 "nbformat_minor": 2
}
