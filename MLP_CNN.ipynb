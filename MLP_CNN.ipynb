{
 "cells": [
  {
   "cell_type": "code",
   "execution_count": 1,
   "metadata": {},
   "outputs": [],
   "source": [
    "from tensorflow import keras\n",
    "from tensorflow.keras import layers, regularizers\n",
    "from keras.layers import *\n",
    "import tensorflow as tf\n",
    "import numpy as np\n",
    "import baseline_model as model"
   ]
  },
  {
   "cell_type": "markdown",
   "metadata": {},
   "source": [
    "## Data preparation"
   ]
  },
  {
   "cell_type": "code",
   "execution_count": 2,
   "metadata": {},
   "outputs": [],
   "source": [
    "# Prepare field data\n",
    "no_of_sensor = 8\n",
    "\n",
    "Re_list_train = [300, 400, 450, 500, 600, 650, 700, 800, 850, 900, 1000]\n",
    "Re_list_test = [350, 550, 750, 950]\n",
    "\n",
    "sensor_data_whole = []\n",
    "full_field_data_whole = []\n",
    "for Re in Re_list_train:\n",
    "    filename = \"D:/data/flow_field_recon/random_sensor_data/sensor_data_\" + str(no_of_sensor) + \"_\" + str(Re) + \".npy\"\n",
    "    sensor_data = np.load(filename)\n",
    "    sensor_data_whole.append(sensor_data)\n",
    "    filename_field = \"D:/data/flow_field_recon/full_field_data/full_field_data_\" + str(Re) + \".npy\"\n",
    "    full_field_data_whole.append(np.load(filename_field))\n",
    "\n",
    "sensor_data_whole_array = np.swapaxes(np.concatenate(sensor_data_whole,axis = -1), 0,1)\n",
    "full_field_data_whole_array = np.swapaxes(\n",
    "    np.expand_dims(\n",
    "        np.concatenate(full_field_data_whole, axis = -1), axis = 0),\n",
    "        0, -1)\n",
    "\n",
    "print(sensor_data_whole_array.shape)\n",
    "print(full_field_data_whole_array.shape)\n",
    "\n",
    "# Create tf.dataset\n",
    "dataset = tf.data.Dataset.from_tensor_slices((sensor_data_whole_array,full_field_data_whole_array))\n",
    "dataset = dataset.shuffle(buffer_size = 2192) \n",
    "dataset = dataset.batch(8)\n",
    "print(dataset)"
   ]
  },
  {
   "cell_type": "code",
   "execution_count": null,
   "metadata": {},
   "outputs": [],
   "source": [
    "# Prepare sensor data\n"
   ]
  },
  {
   "cell_type": "markdown",
   "metadata": {},
   "source": [
    "## Training"
   ]
  },
  {
   "cell_type": "code",
   "execution_count": 3,
   "metadata": {},
   "outputs": [
    {
     "name": "stdout",
     "output_type": "stream",
     "text": [
      "Model: \"model\"\n",
      "_________________________________________________________________\n",
      " Layer (type)                Output Shape              Param #   \n",
      "=================================================================\n",
      " input_1 (InputLayer)        [(None, 8)]               0         \n",
      "                                                                 \n",
      " dense (Dense)               (None, 128)               1152      \n",
      "                                                                 \n",
      " dense_1 (Dense)             (None, 256)               33024     \n",
      "                                                                 \n",
      " dense_2 (Dense)             (None, 512)               131584    \n",
      "                                                                 \n",
      " dense_3 (Dense)             (None, 1024)              525312    \n",
      "                                                                 \n",
      " reshape (Reshape)           (None, 4, 8, 32)          0         \n",
      "                                                                 \n",
      " conv2d (Conv2D)             (None, 4, 8, 256)         73984     \n",
      "                                                                 \n",
      " up_sampling2d (UpSampling2D  (None, 8, 16, 256)       0         \n",
      " )                                                               \n",
      "                                                                 \n",
      " conv2d_1 (Conv2D)           (None, 8, 16, 256)        590080    \n",
      "                                                                 \n",
      " conv2d_2 (Conv2D)           (None, 8, 16, 256)        65792     \n",
      "                                                                 \n",
      " conv2d_3 (Conv2D)           (None, 8, 16, 256)        590080    \n",
      "                                                                 \n",
      " conv2d_4 (Conv2D)           (None, 8, 16, 256)        65792     \n",
      "                                                                 \n",
      " up_sampling2d_1 (UpSampling  (None, 16, 32, 256)      0         \n",
      " 2D)                                                             \n",
      "                                                                 \n",
      " conv2d_5 (Conv2D)           (None, 16, 32, 256)       590080    \n",
      "                                                                 \n",
      " conv2d_6 (Conv2D)           (None, 16, 32, 256)       65792     \n",
      "                                                                 \n",
      " conv2d_7 (Conv2D)           (None, 16, 32, 256)       590080    \n",
      "                                                                 \n",
      " conv2d_8 (Conv2D)           (None, 16, 32, 256)       65792     \n",
      "                                                                 \n",
      " up_sampling2d_2 (UpSampling  (None, 32, 64, 256)      0         \n",
      " 2D)                                                             \n",
      "                                                                 \n",
      " conv2d_9 (Conv2D)           (None, 32, 64, 128)       295040    \n",
      "                                                                 \n",
      " conv2d_10 (Conv2D)          (None, 32, 64, 128)       16512     \n",
      "                                                                 \n",
      " up_sampling2d_3 (UpSampling  (None, 64, 128, 128)     0         \n",
      " 2D)                                                             \n",
      "                                                                 \n",
      " conv2d_11 (Conv2D)          (None, 64, 128, 128)      147584    \n",
      "                                                                 \n",
      " conv2d_12 (Conv2D)          (None, 64, 128, 128)      16512     \n",
      "                                                                 \n",
      " up_sampling2d_4 (UpSampling  (None, 128, 256, 128)    0         \n",
      " 2D)                                                             \n",
      "                                                                 \n",
      " conv2d_13 (Conv2D)          (None, 128, 256, 64)      73792     \n",
      "                                                                 \n",
      " conv2d_14 (Conv2D)          (None, 128, 256, 64)      4160      \n",
      "                                                                 \n",
      " conv2d_15 (Conv2D)          (None, 128, 256, 1)       577       \n",
      "                                                                 \n",
      "=================================================================\n",
      "Total params: 3,942,721\n",
      "Trainable params: 3,942,721\n",
      "Non-trainable params: 0\n",
      "_________________________________________________________________\n"
     ]
    }
   ],
   "source": [
    "tf.keras.backend.clear_session()\n",
    "mlp_recon = model.MLP_CNN(no_of_sensor = no_of_sensor)\n",
    "mlp_recon.summary()\n",
    "# mlp_recon.compile(optimizer = tf.keras.optimizers.Adam(learning_rate = 0.00005, beta_1 = 0.9, beta_2 = 0.999))\n",
    "# mlp_recon.fit(dataset, epochs = 10, shuffle = True)"
   ]
  },
  {
   "cell_type": "code",
   "execution_count": null,
   "metadata": {},
   "outputs": [],
   "source": [
    "# Save model weight"
   ]
  }
 ],
 "metadata": {
  "kernelspec": {
   "display_name": "Python 3",
   "language": "python",
   "name": "python3"
  },
  "language_info": {
   "codemirror_mode": {
    "name": "ipython",
    "version": 3
   },
   "file_extension": ".py",
   "mimetype": "text/x-python",
   "name": "python",
   "nbconvert_exporter": "python",
   "pygments_lexer": "ipython3",
   "version": "3.7.4"
  }
 },
 "nbformat": 4,
 "nbformat_minor": 2
}
