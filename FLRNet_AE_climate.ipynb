{
 "cells": [
  {
   "cell_type": "code",
   "execution_count": 1,
   "metadata": {},
   "outputs": [
    {
     "name": "stderr",
     "output_type": "stream",
     "text": [
      "c:\\Users\\phong\\.conda\\envs\\tf\\lib\\site-packages\\h5py\\__init__.py:36: UserWarning: h5py is running against HDF5 1.12.2 when it was built against 1.12.1, this may cause problems\n",
      "  _warn((\"h5py is running against HDF5 {0} when it was built against {1}, \"\n"
     ]
    }
   ],
   "source": [
    "from tensorflow import keras\n",
    "from tensorflow.keras import layers, regularizers\n",
    "from keras.layers import *\n",
    "import tensorflow as tf \n",
    "import numpy as np\n",
    "import model as model"
   ]
  },
  {
   "cell_type": "markdown",
   "metadata": {},
   "source": [
    "## Data preparation"
   ]
  },
  {
   "cell_type": "code",
   "execution_count": 2,
   "metadata": {},
   "outputs": [
    {
     "name": "stdout",
     "output_type": "stream",
     "text": [
      "(17520, 256)\n",
      "(17520, 128, 128, 1)\n",
      "Check field data:  0.0 1.0\n",
      "Check sens data:  0.0009686941213763089 0.9253287962832636\n",
      "<BatchDataset element_spec=(TensorSpec(shape=(None, 256), dtype=tf.float64, name=None), TensorSpec(shape=(None, 128, 128, 1), dtype=tf.float64, name=None))>\n"
     ]
    }
   ],
   "source": [
    "# Prepare field data\n",
    "year_list_train = [2010, 2011, 2012, 2013, 2014, 2015, 2016, 2017, 2018, 2019, 2020] # Train for 10 years\n",
    "# Re_list_test = [350, 550, 750, 950]\n",
    "\n",
    "full_field_data_whole = []\n",
    "for year in year_list_train:\n",
    "    filename_field = str(year) + \"_east_sea.npy\"\n",
    "    full_field_data_whole.append(np.load(filename_field))\n",
    "\n",
    "full_field_data_whole_array = np.concatenate(full_field_data_whole, axis = 0)\n",
    "\n",
    "print(full_field_data_whole_array.shape)\n",
    "\n",
    "# Normalization\n",
    "min_val = np.amin(full_field_data_whole_array)\n",
    "max_val = np.amax(full_field_data_whole_array)\n",
    "full_field_data_whole_array_norm = (full_field_data_whole_array - min_val)/(max_val - min_val)\n",
    "\n",
    "# Test\n",
    "print(\"Check field data: \", np.amin(full_field_data_whole_array_norm), np.amax(full_field_data_whole_array_norm))\n",
    "\n",
    "# Create tf.dataset\n",
    "dataset = tf.data.Dataset.from_tensor_slices(full_field_data_whole_array_norm)\n",
    "dataset = dataset.shuffle(buffer_size = 2192) \n",
    "dataset = dataset.batch(8)\n",
    "print(dataset)\n"
   ]
  },
  {
   "cell_type": "markdown",
   "metadata": {},
   "source": [
    "## Training"
   ]
  },
  {
   "cell_type": "code",
   "execution_count": null,
   "metadata": {},
   "outputs": [],
   "source": [
    "tf.keras.backend.clear_session()\n",
    "flow_recon_net = model.VAE(input_shape= (128,128,1), latent_shape=(4,4,4))\n",
    "flow_recon_net.compile(optimizer = tf.keras.optimizers.Adam(learning_rate = 0.00005, beta_1 = 0.9, beta_2 = 0.999))\n",
    "flow_recon_net.fit(dataset, epochs = 500, shuffle = True)"
   ]
  },
  {
   "cell_type": "code",
   "execution_count": 4,
   "metadata": {},
   "outputs": [],
   "source": [
    "# Save model weight\n",
    "flow_recon_net.encoder.save_weights('encoder.h5')\n",
    "flow_recon_net.decoder.save_weights('decoder.h5')"
   ]
  }
 ],
 "metadata": {
  "kernelspec": {
   "display_name": "tf",
   "language": "python",
   "name": "python3"
  },
  "language_info": {
   "codemirror_mode": {
    "name": "ipython",
    "version": 3
   },
   "file_extension": ".py",
   "mimetype": "text/x-python",
   "name": "python",
   "nbconvert_exporter": "python",
   "pygments_lexer": "ipython3",
   "version": "3.9.18"
  }
 },
 "nbformat": 4,
 "nbformat_minor": 2
}
