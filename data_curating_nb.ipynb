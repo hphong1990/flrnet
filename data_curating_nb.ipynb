{
 "cells": [
  {
   "cell_type": "code",
   "execution_count": 2,
   "metadata": {},
   "outputs": [],
   "source": [
    "import numpy as np\n",
    "import matplotlib.pyplot as plt"
   ]
  },
  {
   "cell_type": "markdown",
   "metadata": {},
   "source": [
    "# Random sensor placement"
   ]
  },
  {
   "cell_type": "code",
   "execution_count": 33,
   "metadata": {},
   "outputs": [],
   "source": [
    "import numpy as np\n",
    "import random\n",
    "\n",
    "def latin_hypercube_sampling(n, k):\n",
    "    \"\"\"\n",
    "    Generate Latin Hypercube Sampling points.\n",
    "\n",
    "    Parameters:\n",
    "    - n: Number of samples (rows).\n",
    "    - k: Number of variables (columns).\n",
    "\n",
    "    Returns:\n",
    "    - A numpy array of shape (n, k) containing the LHS points.\n",
    "    \"\"\"\n",
    "\n",
    "    # Generate random permutations for each variable\n",
    "    samples = np.zeros((n, k))\n",
    "    for j in range(k):\n",
    "        # Divide the interval [0, 1] into n equal intervals\n",
    "        seg_size = 1.0 / n\n",
    "        seg_starts = np.arange(0, 1, seg_size)\n",
    "        \n",
    "        # Randomly shuffle the starting points\n",
    "        random.shuffle(seg_starts)\n",
    "        \n",
    "        # Fill each row with one of the random segments\n",
    "        for i in range(n):\n",
    "            samples[i, j] = random.uniform(seg_starts[i], seg_starts[i] + seg_size)\n",
    "\n",
    "    return samples\n",
    "\n",
    "def generate_sensor_pos(lhs_sample, domain_dim):\n",
    "    rescaled_sample = np.copy(lhs_sample)\n",
    "    # Convert columns to np.int32 after scaling\n",
    "    rescaled_sample[:, 0] = (rescaled_sample[:, 0] * domain_dim[0])\n",
    "    rescaled_sample[:, 1] = (rescaled_sample[:, 1] * domain_dim[1]) + 80\n",
    "    return rescaled_sample"
   ]
  },
  {
   "cell_type": "markdown",
   "metadata": {},
   "source": [
    "## Sensor measurement creation loop"
   ]
  },
  {
   "cell_type": "code",
   "execution_count": 75,
   "metadata": {},
   "outputs": [],
   "source": [
    "Re_list = [300, 350, 400, 450, 500, 550, 600, 650, 700, 750, 800, 850, 900, 950, 1000]\n",
    "no_of_sensor_list = [64]\n",
    "for n in no_of_sensor_list:\n",
    "    # Create random sensor position\n",
    "    k = 2   # Number of variables\n",
    "    file_name_loc = \"sensor_loc_\" + str(n) + \".npy\"\n",
    "    rescaled_sample = np.load(file_name_loc)\n",
    "    for Re in Re_list:\n",
    "        file_name = \"D:/data/Navier-Stokes/Navier-Stokes/Re_\" + str(Re) + \".npy\"\n",
    "        field_data = np.load(file_name)\n",
    "        sensor_measurement = np.zeros(shape=(n,39))\n",
    "        for i in range(n):\n",
    "            for j in range(39):\n",
    "                sensor_measurement[i,j] = np.sqrt(field_data[int(rescaled_sample[i,0]),int(rescaled_sample[i,1]),j*3]**2 + \n",
    "                                                  field_data[int(rescaled_sample[i,0]),int(rescaled_sample[i,1]),j*3+1]**2) \n",
    "            # plt.plot(sensor_measurement[i,:])\n",
    "            # plt.show()\n",
    "        # print(sensor_measurement)\n",
    "        file_name_data = \"sensor_data_\" + str(n) + \"_\" + str(Re) +\".npy\"\n",
    "        np.save(file_name_data,sensor_measurement)\n"
   ]
  },
  {
   "cell_type": "markdown",
   "metadata": {},
   "source": [
    "### Sensor location generation"
   ]
  },
  {
   "cell_type": "code",
   "execution_count": 73,
   "metadata": {},
   "outputs": [
    {
     "data": {
      "image/png": "[encoded data removed]",
      "text/plain": [
       "<Figure size 432x288 with 1 Axes>"
      ]
     },
     "metadata": {
      "needs_background": "light"
     },
     "output_type": "display_data"
    }
   ],
   "source": [
    "import numpy as np\n",
    "\n",
    "# Generate random sample data\n",
    "# Example usage:\n",
    "Re = 750\n",
    "file_name = \"D:/data/Navier-Stokes/Navier-Stokes/Re_\" + str(Re) + \".npy\"\n",
    "field_data = np.load(file_name)\n",
    "n = 64  # Number of samples\n",
    "k = 2   # Number of variables\n",
    "sample = latin_hypercube_sampling(n, k)\n",
    "rescaled_sample = generate_sensor_pos(sample, (128,126)) # Rescaling to 128 x 256\n",
    "\n",
    "plot_field_data = np.copy(field_data)\n",
    "# Loop to set specific elements of field_data to 0\n",
    "for j in range(38):\n",
    "    for i in range(n):\n",
    "        plot_field_data[int(rescaled_sample[i, 0]), int(rescaled_sample[i,1]), j*3] = 0\n",
    "        \n",
    "plt.imshow(np.sqrt(plot_field_data[:,:,0]**2 + field_data[:,:,1]**2 ), vmin = 0, vmax = 2)\n",
    "plt.show()\n",
    "np.save('sensor_loc_64.npy', rescaled_sample)"
   ]
  },
  {
   "cell_type": "markdown",
   "metadata": {},
   "source": [
    "# Sensor placement around obstacle"
   ]
  },
  {
   "cell_type": "markdown",
   "metadata": {},
   "source": [
    "## Sensor location creation"
   ]
  },
  {
   "cell_type": "code",
   "execution_count": 110,
   "metadata": {},
   "outputs": [
    {
     "name": "stdout",
     "output_type": "stream",
     "text": [
      "[[135.72539305]\n",
      " [187.26579151]\n",
      " [247.04596983]\n",
      " [ 73.63979244]\n",
      " [328.74355569]\n",
      " [ 98.78029142]\n",
      " [224.08291998]\n",
      " [200.32845572]\n",
      " [ 81.44431464]\n",
      " [106.70040877]\n",
      " [ 40.45608069]\n",
      " [119.89495381]\n",
      " [129.2958252 ]\n",
      " [274.25995515]\n",
      " [ 57.20303373]\n",
      " [288.98118368]\n",
      " [356.14332775]\n",
      " [301.50937455]\n",
      " [255.62334392]\n",
      " [340.64614571]\n",
      " [165.45202514]\n",
      " [204.83304371]\n",
      " [ 46.95486175]\n",
      " [269.84820901]\n",
      " [148.26864267]\n",
      " [314.36502727]\n",
      " [  0.42898827]\n",
      " [315.6527717 ]\n",
      " [ 22.58036006]\n",
      " [ 11.38979649]\n",
      " [235.09728066]\n",
      " [168.84880237]]\n"
     ]
    },
    {
     "data": {
      "image/png": "[encoded data removed]",
      "text/plain": [
       "<Figure size 432x288 with 1 Axes>"
      ]
     },
     "metadata": {
      "needs_background": "light"
     },
     "output_type": "display_data"
    },
    {
     "name": "stdout",
     "output_type": "stream",
     "text": [
      "[[48.96395389 80.66005857]\n",
      " [43.16862727 63.34408013]\n",
      " [55.81015836 46.66282094]\n",
      " [69.91517787 86.14970647]\n",
      " [81.95192385 55.10374238]\n",
      " [60.79443617 86.75389989]\n",
      " [48.91499189 51.3903275 ]\n",
      " [44.30795319 58.70457044]\n",
      " [67.12418173 86.76630657]\n",
      " [57.96528558 86.11422934]\n",
      " [79.97897492 79.62616455]\n",
      " [53.53336085 84.20575362]\n",
      " [50.7001858  82.25161352]\n",
      " [65.55991699 45.05801683]\n",
      " [75.37493776 83.65250098]\n",
      " [70.83041007 46.14186569]\n",
      " [84.95244398 64.58752298]\n",
      " [74.97539934 48.09635207]\n",
      " [58.7858     45.65762752]\n",
      " [83.81328733 59.04057149]\n",
      " [43.67330929 71.27500186]\n",
      " [44.94175617 57.1805135 ]\n",
      " [78.33406066 81.34713997]\n",
      " [63.94436576 45.00007369]\n",
      " [46.13900866 77.04468145]\n",
      " [78.68376918 50.98710812]\n",
      " [84.99941138 66.15723094]\n",
      " [79.01745268 51.3208953 ]\n",
      " [83.39017974 74.06355565]\n",
      " [84.58643354 70.14713808]\n",
      " [51.98411923 48.77738088]\n",
      " [43.39647494 70.06137355]]\n"
     ]
    }
   ],
   "source": [
    "import numpy as np\n",
    "\n",
    "def generate_sensor_pos(lhs_sample, domain_dim):\n",
    "    rescaled_sample = np.copy(lhs_sample)\n",
    "    # Convert columns to np.int32 after scaling\n",
    "    rescaled_sample[:, 0] = (rescaled_sample[:, 0] * domain_dim)\n",
    "    return rescaled_sample\n",
    "\n",
    "# Generate random sample data\n",
    "# Example usage:\n",
    "Re = 750\n",
    "file_name = \"D:/data/Navier-Stokes/Navier-Stokes/Re_\" + str(Re) + \".npy\"\n",
    "field_data = np.load(file_name)\n",
    "n = 32  # Number of samples\n",
    "k = 1   # Number of variables\n",
    "sample = latin_hypercube_sampling(n, k)\n",
    "rescaled_sample = generate_sensor_pos(sample, 360) # Rescaling to 128 x 256\n",
    "print(rescaled_sample)\n",
    "pos = np.zeros(shape = (n,2))\n",
    "pos[:,0:1] = np.cos(np.deg2rad(rescaled_sample))*21+64\n",
    "pos[:,1:2] = np.sin(np.deg2rad(rescaled_sample))*21+66\n",
    "plot_field_data = np.copy(field_data)\n",
    "# # Loop to set specific elements of field_data to 0\n",
    "for j in range(38):\n",
    "    for i in range(n):\n",
    "        plot_field_data[int(pos[i, 0]), int(pos[i,1]), j*3] = 0\n",
    "        \n",
    "plt.imshow(np.sqrt(plot_field_data[:,:,0]**2 + field_data[:,:,1]**2 ), vmin = 0, vmax = 2)\n",
    "plt.show()\n",
    "print(pos)"
   ]
  },
  {
   "cell_type": "code",
   "execution_count": null,
   "metadata": {},
   "outputs": [],
   "source": [
    "np.save('sensor_loc_cir_32.npy',pos)"
   ]
  },
  {
   "cell_type": "markdown",
   "metadata": {},
   "source": [
    "## Sensor measurement creation loop"
   ]
  },
  {
   "cell_type": "code",
   "execution_count": 115,
   "metadata": {},
   "outputs": [],
   "source": [
    "Re_list = [300, 350, 400, 450, 500, 550, 600, 650, 700, 750, 800, 850, 900, 950, 1000]\n",
    "no_of_sensor_list = [8,16,32,64]\n",
    "for n in no_of_sensor_list:\n",
    "    # Create random sensor position\n",
    "    k = 2   # Number of variables\n",
    "    file_name_loc = \"sensor_loc_cir_\" + str(n) + \".npy\"\n",
    "    rescaled_sample = np.load(file_name_loc)\n",
    "    for Re in Re_list:\n",
    "        file_name = \"D:/data/Navier-Stokes/Navier-Stokes/Re_\" + str(Re) + \".npy\"\n",
    "        field_data = np.load(file_name)\n",
    "        sensor_measurement = np.zeros(shape=(n,39))\n",
    "        for i in range(n):\n",
    "            for j in range(39):\n",
    "                sensor_measurement[i,j] = np.sqrt(field_data[int(rescaled_sample[i,0]),int(rescaled_sample[i,1]),j*3]**2 + \n",
    "                                                  field_data[int(rescaled_sample[i,0]),int(rescaled_sample[i,1]),j*3+1]**2) \n",
    "            # plt.plot(sensor_measurement[i,:])\n",
    "            # plt.show()\n",
    "        # print(sensor_measurement)\n",
    "        file_name_data = \"sensor_data_cir_\" + str(n) + \"_\" + str(Re) +\".npy\"\n",
    "        np.save(file_name_data,sensor_measurement)\n"
   ]
  },
  {
   "cell_type": "markdown",
   "metadata": {},
   "source": [
    "# Full field data creation"
   ]
  },
  {
   "cell_type": "code",
   "execution_count": 120,
   "metadata": {},
   "outputs": [],
   "source": [
    "Re_list = [300, 350, 400, 450, 500, 550, 600, 650, 700, 750, 800, 850, 900, 950, 1000]\n",
    "n_time_step = 39\n",
    "domain_dim = (128,256)\n",
    "for Re in Re_list:\n",
    "    file_name = \"D:/data/Navier-Stokes/Navier-Stokes/Re_\" + str(Re) + \".npy\"\n",
    "    field_data = np.load(file_name)\n",
    "    full_field_data = np.zeros(shape = (domain_dim[0],domain_dim[1],n_time_step))\n",
    "    for j in range(n_time_step):\n",
    "        full_field_data[:,:,j] = np.sqrt(field_data[:,:,j*3]**2 + \n",
    "                                                field_data[:,:,j*3+1]**2) \n",
    "        # plt.imshow(full_field_data[:,:,j])\n",
    "        # plt.show()\n",
    "    # print(sensor_measurement)\n",
    "    file_name_data = \"full_field_data_\" + str(Re) +\".npy\"\n",
    "    np.save(file_name_data,full_field_data)\n"
   ]
  },
  {
   "cell_type": "code",
   "execution_count": null,
   "metadata": {},
   "outputs": [],
   "source": []
  }
 ],
 "metadata": {
  "kernelspec": {
   "display_name": "Python 3",
   "language": "python",
   "name": "python3"
  },
  "language_info": {
   "codemirror_mode": {
    "name": "ipython",
    "version": 3
   },
   "file_extension": ".py",
   "mimetype": "text/x-python",
   "name": "python",
   "nbconvert_exporter": "python",
   "pygments_lexer": "ipython3",
   "version": "3.7.4"
  }
 },
 "nbformat": 4,
 "nbformat_minor": 2
}
