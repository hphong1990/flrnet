{
 "cells": [
  {
   "cell_type": "code",
   "execution_count": 2,
   "metadata": {},
   "outputs": [],
   "source": [
    "import numpy as np\n",
    "import matplotlib.pyplot as plt"
   ]
  },
  {
   "cell_type": "markdown",
   "metadata": {},
   "source": [
    "# Random sensor placement"
   ]
  },
  {
   "cell_type": "code",
   "execution_count": 3,
   "metadata": {},
   "outputs": [],
   "source": [
    "import numpy as np\n",
    "import random\n",
    "\n",
    "def latin_hypercube_sampling(n, k):\n",
    "    \"\"\"\n",
    "    Generate Latin Hypercube Sampling points.\n",
    "\n",
    "    Parameters:\n",
    "    - n: Number of samples (rows).\n",
    "    - k: Number of variables (columns).\n",
    "\n",
    "    Returns:\n",
    "    - A numpy array of shape (n, k) containing the LHS points.\n",
    "    \"\"\"\n",
    "\n",
    "    # Generate random permutations for each variable\n",
    "    samples = np.zeros((n, k))\n",
    "    for j in range(k):\n",
    "        # Divide the interval [0, 1] into n equal intervals\n",
    "        seg_size = 1.0 / n\n",
    "        seg_starts = np.arange(0, 1, seg_size)\n",
    "        \n",
    "        # Randomly shuffle the starting points\n",
    "        random.shuffle(seg_starts)\n",
    "        \n",
    "        # Fill each row with one of the random segments\n",
    "        for i in range(n):\n",
    "            samples[i, j] = random.uniform(seg_starts[i], seg_starts[i] + seg_size)\n",
    "\n",
    "    return samples\n",
    "\n",
    "def generate_sensor_pos(lhs_sample, domain_dim):\n",
    "    rescaled_sample = np.copy(lhs_sample)\n",
    "    # Convert columns to np.int32 after scaling\n",
    "    rescaled_sample[:, 0] = (rescaled_sample[:, 0] * domain_dim[0])\n",
    "    rescaled_sample[:, 1] = (rescaled_sample[:, 1] * domain_dim[1]) + 80\n",
    "    return rescaled_sample"
   ]
  },
  {
   "cell_type": "markdown",
   "metadata": {},
   "source": [
    "## Sensor measurement creation loop"
   ]
  },
  {
   "cell_type": "code",
   "execution_count": 75,
   "metadata": {},
   "outputs": [],
   "source": [
    "Re_list = [300, 350, 400, 450, 500, 550, 600, 650, 700, 750, 800, 850, 900, 950, 1000]\n",
    "no_of_sensor_list = [64]\n",
    "for n in no_of_sensor_list:\n",
    "    # Create random sensor position\n",
    "    k = 2   # Number of variables\n",
    "    file_name_loc = \"sensor_loc_\" + str(n) + \".npy\"\n",
    "    rescaled_sample = np.load(file_name_loc)\n",
    "    for Re in Re_list:\n",
    "        file_name = \"D:/data/Navier-Stokes/Navier-Stokes/Re_\" + str(Re) + \".npy\"\n",
    "        field_data = np.load(file_name)\n",
    "        sensor_measurement = np.zeros(shape=(n,39))\n",
    "        for i in range(n):\n",
    "            for j in range(39):\n",
    "                sensor_measurement[i,j] = np.sqrt(field_data[int(rescaled_sample[i,0]),int(rescaled_sample[i,1]),j*3]**2 + \n",
    "                                                  field_data[int(rescaled_sample[i,0]),int(rescaled_sample[i,1]),j*3+1]**2) \n",
    "            # plt.plot(sensor_measurement[i,:])\n",
    "            # plt.show()\n",
    "        # print(sensor_measurement)\n",
    "        file_name_data = \"sensor_data_\" + str(n) + \"_\" + str(Re) +\".npy\"\n",
    "        np.save(file_name_data,sensor_measurement)\n"
   ]
  },
  {
   "cell_type": "markdown",
   "metadata": {},
   "source": [
    "### Sensor location generation"
   ]
  },
  {
   "cell_type": "code",
   "execution_count": 73,
   "metadata": {},
   "outputs": [
    {
     "data": {
      "image/png": "[encoded data removed]",
      "text/plain": [
       "<Figure size 432x288 with 1 Axes>"
      ]
     },
     "metadata": {
      "needs_background": "light"
     },
     "output_type": "display_data"
    }
   ],
   "source": [
    "import numpy as np\n",
    "\n",
    "# Generate random sample data\n",
    "# Example usage:\n",
    "Re = 750\n",
    "file_name = \"D:/data/Navier-Stokes/Navier-Stokes/Re_\" + str(Re) + \".npy\"\n",
    "field_data = np.load(file_name)\n",
    "n = 64  # Number of samples\n",
    "k = 2   # Number of variables\n",
    "sample = latin_hypercube_sampling(n, k)\n",
    "rescaled_sample = generate_sensor_pos(sample, (128,126)) # Rescaling to 128 x 256\n",
    "\n",
    "plot_field_data = np.copy(field_data)\n",
    "# Loop to set specific elements of field_data to 0\n",
    "for j in range(38):\n",
    "    for i in range(n):\n",
    "        plot_field_data[int(rescaled_sample[i, 0]), int(rescaled_sample[i,1]), j*3] = 0\n",
    "        \n",
    "plt.imshow(np.sqrt(plot_field_data[:,:,0]**2 + field_data[:,:,1]**2 ), vmin = 0, vmax = 2)\n",
    "plt.show()\n",
    "np.save('sensor_loc_64.npy', rescaled_sample)"
   ]
  },
  {
   "cell_type": "markdown",
   "metadata": {},
   "source": [
    "# Sensor placement around obstacle"
   ]
  },
  {
   "cell_type": "markdown",
   "metadata": {},
   "source": [
    "## Sensor location creation"
   ]
  },
  {
   "cell_type": "code",
   "execution_count": 46,
   "metadata": {},
   "outputs": [
    {
     "name": "stdout",
     "output_type": "stream",
     "text": [
      "[[107.47436179]\n",
      " [ 11.90847674]\n",
      " [ 25.79613148]\n",
      " [333.00005883]\n",
      " [288.15333718]\n",
      " [ 89.88632513]\n",
      " [121.44857459]\n",
      " [ 34.66898884]\n",
      " [201.07878725]\n",
      " [266.20684845]\n",
      " [355.21217057]\n",
      " [243.44876913]\n",
      " [ 72.03693787]\n",
      " [321.91211749]\n",
      " [255.70201603]\n",
      " [162.49970588]\n",
      " [ 91.82771358]\n",
      " [ 61.02285572]\n",
      " [338.6720798 ]\n",
      " [177.13199343]\n",
      " [130.49177134]\n",
      " [279.31489407]\n",
      " [157.18166515]\n",
      " [189.28457465]\n",
      " [235.491051  ]\n",
      " [144.81106144]\n",
      " [219.85957925]\n",
      " [313.11834749]\n",
      " [295.46518472]\n",
      " [ 45.12879555]\n",
      " [206.16723986]\n",
      " [  8.54946936]]\n"
     ]
    }
   ],
   "source": [
    "import numpy as np\n",
    "\n",
    "def generate_sensor_pos(lhs_sample, domain_dim):\n",
    "    rescaled_sample = np.copy(lhs_sample)\n",
    "    # Convert columns to np.int32 after scaling\n",
    "    rescaled_sample[:, 0] = (rescaled_sample[:, 0] * domain_dim)\n",
    "    return rescaled_sample\n",
    "\n",
    "# Generate random sample data\n",
    "# Example usage:\n",
    "# Re = 750\n",
    "# file_name = \"D:/data/Navier-Stokes/Navier-Stokes/Re_\" + str(Re) + \".npy\"\n",
    "# field_data = np.load(file_name)\n",
    "n = 32  # Number of samples\n",
    "k = 1   # Number of variables\n",
    "sample = latin_hypercube_sampling(n, k)\n",
    "rescaled_sample = generate_sensor_pos(sample, 360) # Rescaling to 128 x 256\n",
    "print(rescaled_sample)\n",
    "pos = np.zeros(shape = (n,2))\n",
    "pos[:,0:1] = np.cos(np.deg2rad(rescaled_sample))*21+64\n",
    "pos[:,1:2] = np.sin(np.deg2rad(rescaled_sample))*21+66\n",
    "# plot_field_data = np.copy(field_data)\n",
    "# # # Loop to set specific elements of field_data to 0\n",
    "# for j in range(38):\n",
    "#     for i in range(n):\n",
    "#         plot_field_data[int(pos[i, 0]), int(pos[i,1]), j*3] = 0\n",
    "        \n",
    "# plt.imshow(np.sqrt(plot_field_data[:,:,0]**2 + field_data[:,:,1]**2 ), vmin = 0, vmax = 2)\n",
    "# plt.show()\n",
    "# print(pos)"
   ]
  },
  {
   "cell_type": "code",
   "execution_count": 47,
   "metadata": {},
   "outputs": [],
   "source": [
    "np.save('sensor_loc_cir_32.npy',pos)"
   ]
  },
  {
   "cell_type": "markdown",
   "metadata": {},
   "source": [
    "## Sensor measurement creation loop"
   ]
  },
  {
   "cell_type": "code",
   "execution_count": 51,
   "metadata": {},
   "outputs": [
    {
     "ename": "FileNotFoundError",
     "evalue": "[Errno 2] No such file or directory: 'sensor_loc_cir_8.npy'",
     "output_type": "error",
     "traceback": [
      "\u001b[1;31m---------------------------------------------------------------------------\u001b[0m",
      "\u001b[1;31mFileNotFoundError\u001b[0m                         Traceback (most recent call last)",
      "Cell \u001b[1;32mIn[51], line 7\u001b[0m\n\u001b[0;32m      5\u001b[0m k \u001b[38;5;241m=\u001b[39m \u001b[38;5;241m2\u001b[39m   \u001b[38;5;66;03m# Number of variables\u001b[39;00m\n\u001b[0;32m      6\u001b[0m file_name_loc \u001b[38;5;241m=\u001b[39m \u001b[38;5;124m\"\u001b[39m\u001b[38;5;124msensor_loc_cir_\u001b[39m\u001b[38;5;124m\"\u001b[39m \u001b[38;5;241m+\u001b[39m \u001b[38;5;28mstr\u001b[39m(n) \u001b[38;5;241m+\u001b[39m \u001b[38;5;124m\"\u001b[39m\u001b[38;5;124m.npy\u001b[39m\u001b[38;5;124m\"\u001b[39m\n\u001b[1;32m----> 7\u001b[0m rescaled_sample \u001b[38;5;241m=\u001b[39m \u001b[43mnp\u001b[49m\u001b[38;5;241;43m.\u001b[39;49m\u001b[43mload\u001b[49m\u001b[43m(\u001b[49m\u001b[43mfile_name_loc\u001b[49m\u001b[43m)\u001b[49m\n\u001b[0;32m      8\u001b[0m \u001b[38;5;28;01mfor\u001b[39;00m Re \u001b[38;5;129;01min\u001b[39;00m Re_list:\n\u001b[0;32m      9\u001b[0m     file_name \u001b[38;5;241m=\u001b[39m \u001b[38;5;124m\"\u001b[39m\u001b[38;5;124mD:/data/Navier-Stokes/Navier-Stokes/Re_\u001b[39m\u001b[38;5;124m\"\u001b[39m \u001b[38;5;241m+\u001b[39m \u001b[38;5;28mstr\u001b[39m(Re) \u001b[38;5;241m+\u001b[39m \u001b[38;5;124m\"\u001b[39m\u001b[38;5;124m.npy\u001b[39m\u001b[38;5;124m\"\u001b[39m\n",
      "File \u001b[1;32mc:\\Users\\phong\\.conda\\envs\\tf\\lib\\site-packages\\numpy\\lib\\npyio.py:427\u001b[0m, in \u001b[0;36mload\u001b[1;34m(file, mmap_mode, allow_pickle, fix_imports, encoding, max_header_size)\u001b[0m\n\u001b[0;32m    425\u001b[0m     own_fid \u001b[38;5;241m=\u001b[39m \u001b[38;5;28;01mFalse\u001b[39;00m\n\u001b[0;32m    426\u001b[0m \u001b[38;5;28;01melse\u001b[39;00m:\n\u001b[1;32m--> 427\u001b[0m     fid \u001b[38;5;241m=\u001b[39m stack\u001b[38;5;241m.\u001b[39menter_context(\u001b[38;5;28;43mopen\u001b[39;49m\u001b[43m(\u001b[49m\u001b[43mos_fspath\u001b[49m\u001b[43m(\u001b[49m\u001b[43mfile\u001b[49m\u001b[43m)\u001b[49m\u001b[43m,\u001b[49m\u001b[43m \u001b[49m\u001b[38;5;124;43m\"\u001b[39;49m\u001b[38;5;124;43mrb\u001b[39;49m\u001b[38;5;124;43m\"\u001b[39;49m\u001b[43m)\u001b[49m)\n\u001b[0;32m    428\u001b[0m     own_fid \u001b[38;5;241m=\u001b[39m \u001b[38;5;28;01mTrue\u001b[39;00m\n\u001b[0;32m    430\u001b[0m \u001b[38;5;66;03m# Code to distinguish from NumPy binary files and pickles.\u001b[39;00m\n",
      "\u001b[1;31mFileNotFoundError\u001b[0m: [Errno 2] No such file or directory: 'sensor_loc_cir_8.npy'"
     ]
    }
   ],
   "source": [
    "Re_list = [300, 350, 400, 450, 500, 550, 600, 650, 700, 750, 800, 850, 900, 950, 1000]\n",
    "no_of_sensor_list = [8,16,32,64]\n",
    "for n in no_of_sensor_list:\n",
    "    # Create random sensor position\n",
    "    k = 2   # Number of variables\n",
    "    file_name_loc = \"sensor_loc_cir_\" + str(n) + \".npy\"\n",
    "    rescaled_sample = np.load(file_name_loc)\n",
    "    for Re in Re_list:\n",
    "        file_name = \"D:/data/Navier-Stokes/Navier-Stokes/Re_\" + str(Re) + \".npy\"\n",
    "        field_data = np.load(file_name)\n",
    "        sensor_measurement = np.zeros(shape=(n,39))\n",
    "        for i in range(n):\n",
    "            for j in range(39):\n",
    "                sensor_measurement[i,j] = np.sqrt(field_data[int(rescaled_sample[i,0]),int(rescaled_sample[i,1]),j*3]**2 + \n",
    "                                                  field_data[int(rescaled_sample[i,0]),int(rescaled_sample[i,1]),j*3+1]**2) \n",
    "            plt.plot(sensor_measurement[i,:])\n",
    "            # plt.show()\n",
    "        # print(sensor_measurement)\n",
    "        file_name_data = \"sensor_data_cir_\" + str(n) + \"_\" + str(Re) +\".npy\"\n",
    "        np.save(file_name_data,sensor_measurement)\n"
   ]
  },
  {
   "cell_type": "markdown",
   "metadata": {},
   "source": [
    "# Sensor at boundary"
   ]
  },
  {
   "cell_type": "markdown",
   "metadata": {},
   "source": [
    "## Sensor position creation"
   ]
  },
  {
   "cell_type": "code",
   "execution_count": 53,
   "metadata": {},
   "outputs": [
    {
     "name": "stdout",
     "output_type": "stream",
     "text": [
      "(32, 2)\n",
      "(128, 256, 39)\n"
     ]
    },
    {
     "data": {
      "image/png": "[encoded data removed]",
      "text/plain": [
       "<Figure size 640x480 with 1 Axes>"
      ]
     },
     "metadata": {},
     "output_type": "display_data"
    },
    {
     "name": "stdout",
     "output_type": "stream",
     "text": [
      "[[  1.         186.56565311]\n",
      " [  1.         114.21354761]\n",
      " [  1.         149.05245142]\n",
      " [  1.         159.82043253]\n",
      " [  1.         121.64368032]\n",
      " [  1.         180.39869315]\n",
      " [  1.         201.95555928]\n",
      " [  1.          85.52286418]\n",
      " [  1.         157.56066793]\n",
      " [  1.         141.35348074]\n",
      " [  1.         111.39983925]\n",
      " [  1.          92.25454456]\n",
      " [  1.         130.61881831]\n",
      " [  1.         197.71532575]\n",
      " [  1.          97.77466772]\n",
      " [  1.         169.38975643]\n",
      " [127.          84.46568761]\n",
      " [127.         125.04468258]\n",
      " [127.         130.65323231]\n",
      " [127.         178.16032903]\n",
      " [127.         182.64349854]\n",
      " [127.         110.37896045]\n",
      " [127.         203.43523711]\n",
      " [127.         158.91294377]\n",
      " [127.         144.86819162]\n",
      " [127.         151.25567131]\n",
      " [127.         196.61482766]\n",
      " [127.         119.1938483 ]\n",
      " [127.         171.18765646]\n",
      " [127.         136.38070319]\n",
      " [127.          97.14259691]\n",
      " [127.          91.47587968]]\n"
     ]
    }
   ],
   "source": [
    "import numpy as np\n",
    "\n",
    "def generate_sensor_pos(lhs_sample, domain_dim):\n",
    "    rescaled_sample = np.copy(lhs_sample)\n",
    "    # Convert columns to np.int32 after scaling\n",
    "    rescaled_sample[:, 0] = (rescaled_sample[:, 0] * domain_dim)\n",
    "    return rescaled_sample\n",
    "\n",
    "# Generate random sample data\n",
    "# Example usage:\n",
    "Re = 750\n",
    "file_name = \"E:/Research/Data/flow_field_recon/full_field_data/full_field_data_\" + str(Re) + \".npy\"\n",
    "field_data = np.load(file_name)\n",
    "n = 32  # Number of samples\n",
    "k = 1   # Number of variables\n",
    "sample_up = latin_hypercube_sampling(int(n/2), k)\n",
    "rescaled_sample_up = generate_sensor_pos(sample_up, 126) # Rescaling to 128 x 256\n",
    "\n",
    "sample_down = latin_hypercube_sampling(int(n/2), k)\n",
    "rescaled_sample_down = generate_sensor_pos(sample_down, 126) # Rescaling to 128 x 256\n",
    "# print(rescaled_sample_up)\n",
    "pos_up = np.zeros(shape = (int(n/2),2))\n",
    "# print(pos_up.shape)\n",
    "pos_up[:,0:1] = 1\n",
    "pos_up[:,1:2] = rescaled_sample_up[:] + 80\n",
    "\n",
    "pos_down = np.zeros(shape = (int(n/2),2))\n",
    "pos_down[:,0:1] = 127\n",
    "pos_down[:,1:2] = rescaled_sample_down[:] + 80\n",
    "\n",
    "pos = np.concatenate([pos_up,pos_down], axis = 0)\n",
    "print(pos.shape)\n",
    "plot_field_data = np.copy(field_data)\n",
    "print(plot_field_data.shape)\n",
    "# Loop to set specific elements of field_data to 0\n",
    "for j in range(39):\n",
    "    for i in range(n):\n",
    "        # print(pos[i,0], pos[i,1])\n",
    "        plot_field_data[int(pos[i, 0]), int(pos[i,1]), j] = 0\n",
    "        \n",
    "plt.imshow(plot_field_data[:,:,0], vmin = 0, vmax = 2)\n",
    "plt.show()\n",
    "print(pos)\n",
    "np.save('sens_pos_32_edge',pos)"
   ]
  },
  {
   "cell_type": "code",
   "execution_count": 56,
   "metadata": {},
   "outputs": [],
   "source": [
    "Re_list = [300, 350, 400, 450, 500, 550, 600, 650, 700, 750, 800, 850, 900, 950, 1000]\n",
    "no_of_sensor_list = [32]\n",
    "for n in no_of_sensor_list:\n",
    "    # Create random sensor position\n",
    "    k = 2   # Number of variables\n",
    "    file_name_loc = \"sens_pos_\" + str(n) + \"_edge.npy\"\n",
    "    rescaled_sample = np.load(file_name_loc)\n",
    "    # print(rescaled_sample)\n",
    "    for Re in Re_list:\n",
    "        file_name = \"E:/Research/Data/flow_field_recon/full_field_data/full_field_data_\" + str(Re) + \".npy\"\n",
    "        field_data = np.load(file_name)\n",
    "        sensor_measurement = np.zeros(shape=(n,39))\n",
    "        for i in range(n):\n",
    "            # print(int(rescaled_sample[i,0]),int(rescaled_sample[i,1]))\n",
    "            for j in range(39):\n",
    "                sensor_measurement[i,j] = field_data[int(rescaled_sample[i,0]),int(rescaled_sample[i,1]),j]\n",
    "            # plt.plot(sensor_measurement[i,:])\n",
    "            # plt.show()\n",
    "        # print(sensor_measurement)\n",
    "        file_name_data = \"sensor_data_edge_\" + str(n) + \"_\" + str(Re) +\".npy\"\n",
    "        np.save(file_name_data,sensor_measurement)\n"
   ]
  },
  {
   "cell_type": "markdown",
   "metadata": {},
   "source": [
    "# Full field data creation"
   ]
  },
  {
   "cell_type": "code",
   "execution_count": 120,
   "metadata": {},
   "outputs": [],
   "source": [
    "Re_list = [300, 350, 400, 450, 500, 550, 600, 650, 700, 750, 800, 850, 900, 950, 1000]\n",
    "n_time_step = 39\n",
    "domain_dim = (128,256)\n",
    "for Re in Re_list:\n",
    "    file_name = \"D:/data/Navier-Stokes/Navier-Stokes/Re_\" + str(Re) + \".npy\"\n",
    "    field_data = np.load(file_name)\n",
    "    full_field_data = np.zeros(shape = (domain_dim[0],domain_dim[1],n_time_step))\n",
    "    for j in range(n_time_step):\n",
    "        full_field_data[:,:,j] = np.sqrt(field_data[:,:,j*3]**2 + \n",
    "                                                field_data[:,:,j*3+1]**2) \n",
    "        # plt.imshow(full_field_data[:,:,j])\n",
    "        # plt.show()\n",
    "    # print(sensor_measurement)\n",
    "    file_name_data = \"full_field_data_\" + str(Re) +\".npy\"\n",
    "    np.save(file_name_data,full_field_data)\n"
   ]
  },
  {
   "cell_type": "code",
   "execution_count": null,
   "metadata": {},
   "outputs": [],
   "source": []
  }
 ],
 "metadata": {
  "kernelspec": {
   "display_name": "tf",
   "language": "python",
   "name": "python3"
  },
  "language_info": {
   "codemirror_mode": {
    "name": "ipython",
    "version": 3
   },
   "file_extension": ".py",
   "mimetype": "text/x-python",
   "name": "python",
   "nbconvert_exporter": "python",
   "pygments_lexer": "ipython3",
   "version": "3.9.18"
  }
 },
 "nbformat": 4,
 "nbformat_minor": 2
}
